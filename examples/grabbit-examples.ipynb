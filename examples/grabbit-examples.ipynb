{
 "cells": [
  {
   "cell_type": "markdown",
   "metadata": {},
   "source": [
    "# Grabbids (grabbit) :  a few simple examples"
   ]
  },
  {
   "cell_type": "code",
   "execution_count": 3,
   "metadata": {
    "collapsed": true
   },
   "outputs": [],
   "source": [
    "import json\n",
    "import os\n",
    "import os.path as osp\n",
    "from pprint import pprint"
   ]
  },
  {
   "cell_type": "markdown",
   "metadata": {},
   "source": [
    "## This is the config file: "
   ]
  },
  {
   "cell_type": "code",
   "execution_count": 49,
   "metadata": {
    "collapsed": false
   },
   "outputs": [],
   "source": [
    "config_file = os.path.abspath('../grabbit/tests/specs/test.json')\n",
    "config = json.load(open(config_file))"
   ]
  },
  {
   "cell_type": "markdown",
   "metadata": {},
   "source": [
    "### what's in the config file ?"
   ]
  },
  {
   "cell_type": "code",
   "execution_count": 50,
   "metadata": {
    "collapsed": false
   },
   "outputs": [],
   "source": [
    "\"\"\"\n",
    "{\n",
    "  \"entities\": [\n",
    "    {\n",
    "      \"name\": \"subject\",\n",
    "      \"pattern\": \"(sub-\\\\d+)\",\n",
    "      \"directory\": \"({base_dir}/{subject})\"\n",
    "    },\n",
    "    {\n",
    "      \"name\": \"run\",\n",
    "      \"pattern\": \"(run-\\\\d+)\"\n",
    "    },\n",
    "    {\n",
    "      \"name\": \"session\",\n",
    "      \"pattern\": \"(ses-\\\\d)\",\n",
    "      \"mandatory\": false,\n",
    "      \"missing_value\": \"ses-1\"\n",
    "    },\n",
    "    {\n",
    "      \"name\": \"type\",\n",
    "      \"pattern\": \".*_(.*?)\\\\.\"\n",
    "    }\n",
    "  ],\n",
    "  \"hierarchy\": [\n",
    "    \"subject\",\n",
    "    \"session\",\n",
    "    \"run\",\n",
    "    \"type\"\n",
    "  ]\n",
    "}\n",
    "\"\"\";"
   ]
  },
  {
   "cell_type": "markdown",
   "metadata": {},
   "source": [
    "The config file has two components:\n",
    "* a list of entities, each with a name and a pattern (a regex). Entities are things you will eventually like to grab.\n",
    "* a hierarchy that tells you how these entities relate to each others on the disk."
   ]
  },
  {
   "cell_type": "code",
   "execution_count": 51,
   "metadata": {
    "collapsed": false
   },
   "outputs": [
    {
     "name": "stdout",
     "output_type": "stream",
     "text": [
      "The autoreload extension is already loaded. To reload it, use:\n",
      "  %reload_ext autoreload\n"
     ]
    }
   ],
   "source": [
    "import grabbit as gb\n",
    "%load_ext autoreload\n",
    "%autoreload 2"
   ]
  },
  {
   "cell_type": "code",
   "execution_count": 52,
   "metadata": {
    "collapsed": false
   },
   "outputs": [],
   "source": [
    "layout = gb.Structure(config_file, os.path.abspath('../grabbit/tests/data/7t_trt/'))"
   ]
  },
  {
   "cell_type": "code",
   "execution_count": 53,
   "metadata": {
    "collapsed": false
   },
   "outputs": [
    {
     "data": {
      "text/plain": [
       "['/Users/tal/Dropbox/Code/grabbit/grabbit/tests/data/7t_trt/sub-02/ses-2/fmap/sub-02_ses-2_run-2_phasediff.nii.gz',\n",
       " '/Users/tal/Dropbox/Code/grabbit/grabbit/tests/data/7t_trt/sub-05/ses-1/func/sub-05_ses-1_task-rest_acq-fullbrain_run-2_physio.tsv.gz',\n",
       " '/Users/tal/Dropbox/Code/grabbit/grabbit/tests/data/7t_trt/sub-05/ses-1/fmap/sub-05_ses-1_run-1_phasediff.nii.gz',\n",
       " '/Users/tal/Dropbox/Code/grabbit/grabbit/tests/data/7t_trt/task-rest_acq-fullbrain_run-1_physio.json',\n",
       " '/Users/tal/Dropbox/Code/grabbit/grabbit/tests/data/7t_trt/sub-03/ses-1/func/sub-03_ses-1_task-rest_acq-prefrontal_bold.nii.gz',\n",
       " '/Users/tal/Dropbox/Code/grabbit/grabbit/tests/data/7t_trt/sub-10/ses-1/fmap/sub-10_ses-1_run-1_phasediff.nii.gz',\n",
       " '/Users/tal/Dropbox/Code/grabbit/grabbit/tests/data/7t_trt/sub-07/ses-2/func/sub-07_ses-2_task-rest_acq-fullbrain_run-2_bold.nii.gz',\n",
       " '/Users/tal/Dropbox/Code/grabbit/grabbit/tests/data/7t_trt/sub-05/ses-2/func/sub-05_ses-2_task-rest_acq-fullbrain_run-1_physio.tsv.gz',\n",
       " '/Users/tal/Dropbox/Code/grabbit/grabbit/tests/data/7t_trt/sub-08/ses-2/func/sub-08_ses-2_task-rest_acq-prefrontal_physio.tsv.gz',\n",
       " '/Users/tal/Dropbox/Code/grabbit/grabbit/tests/data/7t_trt/sub-03/ses-1/fmap/sub-03_ses-1_run-2_phasediff.nii.gz']"
      ]
     },
     "execution_count": 53,
     "metadata": {},
     "output_type": "execute_result"
    }
   ],
   "source": [
    "# This layout has entities and files: the layout.files is a dictionary, \n",
    "# which keys are the files in you root \n",
    "\n",
    "list(layout.files.keys())[:10]"
   ]
  },
  {
   "cell_type": "markdown",
   "metadata": {},
   "source": [
    "## Retrieve first run BOLD images for all subjects"
   ]
  },
  {
   "cell_type": "code",
   "execution_count": 56,
   "metadata": {
    "collapsed": false
   },
   "outputs": [
    {
     "name": "stdout",
     "output_type": "stream",
     "text": [
      "Each hit is a named tuple:\n",
      " File(filename='/Users/tal/Dropbox/Code/grabbit/grabbit/tests/data/7t_trt/sub-10/ses-1/func/sub-10_ses-1_task-rest_acq-fullbrain_run-1_bold.nii.gz', type='bold', run='run-1', subject='sub-10', session='ses-1')\n",
      "\n",
      "List first 10 filenames:\n"
     ]
    },
    {
     "data": {
      "text/plain": [
       "['/Users/tal/Dropbox/Code/grabbit/grabbit/tests/data/7t_trt/sub-10/ses-1/func/sub-10_ses-1_task-rest_acq-fullbrain_run-1_bold.nii.gz',\n",
       " '/Users/tal/Dropbox/Code/grabbit/grabbit/tests/data/7t_trt/sub-06/ses-2/func/sub-06_ses-2_task-rest_acq-fullbrain_run-1_bold.nii.gz',\n",
       " '/Users/tal/Dropbox/Code/grabbit/grabbit/tests/data/7t_trt/sub-05/ses-2/func/sub-05_ses-2_task-rest_acq-fullbrain_run-1_bold.nii.gz',\n",
       " '/Users/tal/Dropbox/Code/grabbit/grabbit/tests/data/7t_trt/sub-06/ses-1/func/sub-06_ses-1_task-rest_acq-fullbrain_run-1_bold.nii.gz',\n",
       " '/Users/tal/Dropbox/Code/grabbit/grabbit/tests/data/7t_trt/sub-05/ses-1/func/sub-05_ses-1_task-rest_acq-fullbrain_run-1_bold.nii.gz',\n",
       " '/Users/tal/Dropbox/Code/grabbit/grabbit/tests/data/7t_trt/sub-07/ses-1/func/sub-07_ses-1_task-rest_acq-fullbrain_run-1_bold.nii.gz',\n",
       " '/Users/tal/Dropbox/Code/grabbit/grabbit/tests/data/7t_trt/sub-01/ses-1/func/sub-01_ses-1_task-rest_acq-fullbrain_run-1_bold.nii.gz',\n",
       " '/Users/tal/Dropbox/Code/grabbit/grabbit/tests/data/7t_trt/sub-04/ses-1/func/sub-04_ses-1_task-rest_acq-fullbrain_run-1_bold.nii.gz',\n",
       " '/Users/tal/Dropbox/Code/grabbit/grabbit/tests/data/7t_trt/sub-01/ses-2/func/sub-01_ses-2_task-rest_acq-fullbrain_run-1_bold.nii.gz',\n",
       " '/Users/tal/Dropbox/Code/grabbit/grabbit/tests/data/7t_trt/sub-02/ses-1/func/sub-02_ses-1_task-rest_acq-fullbrain_run-1_bold.nii.gz']"
      ]
     },
     "execution_count": 56,
     "metadata": {},
     "output_type": "execute_result"
    }
   ],
   "source": [
    "hits = layout.get(filters=dict(run=1, type='bold'), return_type='file')\n",
    "print(\"Each hit is a named tuple:\\n\", hits[0])\n",
    "\n",
    "print(\"\\nList first 10 filenames:\")\n",
    "[h.filename for h in hits][:10]"
   ]
  },
  {
   "cell_type": "markdown",
   "metadata": {},
   "source": [
    "## Get all unique subject IDs"
   ]
  },
  {
   "cell_type": "code",
   "execution_count": 46,
   "metadata": {
    "collapsed": false
   },
   "outputs": [
    {
     "data": {
      "text/plain": [
       "['sub-08',\n",
       " 'sub-09',\n",
       " 'sub-03',\n",
       " 'sub-05',\n",
       " 'sub-06',\n",
       " 'sub-02',\n",
       " 'sub-10',\n",
       " 'sub-04',\n",
       " 'sub-07',\n",
       " 'sub-01']"
      ]
     },
     "execution_count": 46,
     "metadata": {},
     "output_type": "execute_result"
    }
   ],
   "source": [
    "layout.get(return_type='id', target='subject')"
   ]
  },
  {
   "cell_type": "markdown",
   "metadata": {},
   "source": [
    "## Find the .bval file that applies to a given image"
   ]
  },
  {
   "cell_type": "code",
   "execution_count": 58,
   "metadata": {
    "collapsed": false
   },
   "outputs": [
    {
     "data": {
      "text/plain": [
       "'/Users/tal/Dropbox/Code/grabbit/grabbit/tests/data/7t_trt/test.bval'"
      ]
     },
     "execution_count": 58,
     "metadata": {},
     "output_type": "execute_result"
    }
   ],
   "source": [
    "start = os.path.abspath('../grabbit/tests/data/7t_trt/sub-04/ses-2/func/sub-04_ses-2_task-rest_acq-fullbrain_run-2_bold.nii.gz')\n",
    "layout.find('bval', start)"
   ]
  }
 ],
 "metadata": {
  "kernelspec": {
   "display_name": "Python 3",
   "language": "python",
   "name": "python3"
  },
  "language_info": {
   "codemirror_mode": {
    "name": "ipython",
    "version": 3
   },
   "file_extension": ".py",
   "mimetype": "text/x-python",
   "name": "python",
   "nbconvert_exporter": "python",
   "pygments_lexer": "ipython3",
   "version": "3.5.1"
  }
 },
 "nbformat": 4,
 "nbformat_minor": 0
}
