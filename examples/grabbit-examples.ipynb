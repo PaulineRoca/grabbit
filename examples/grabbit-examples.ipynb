{
 "cells": [
  {
   "cell_type": "markdown",
   "metadata": {
    "deletable": true,
    "editable": true
   },
   "source": [
    "# Grabbids (grabbit) :  a few simple examples"
   ]
  },
  {
   "cell_type": "code",
   "execution_count": 4,
   "metadata": {
    "collapsed": true,
    "deletable": true,
    "editable": true
   },
   "outputs": [],
   "source": [
    "import json\n",
    "import os\n",
    "import os.path as osp\n",
    "from pprint import pprint"
   ]
  },
  {
   "cell_type": "markdown",
   "metadata": {
    "deletable": true,
    "editable": true
   },
   "source": [
    "## This is the config file: "
   ]
  },
  {
   "cell_type": "code",
   "execution_count": 5,
   "metadata": {
    "collapsed": true,
    "deletable": true,
    "editable": true
   },
   "outputs": [],
   "source": [
    "config_file = os.path.abspath('../grabbit/tests/specs/test.json')\n",
    "config = json.load(open(config_file))"
   ]
  },
  {
   "cell_type": "markdown",
   "metadata": {
    "deletable": true,
    "editable": true
   },
   "source": [
    "### what's in the config file ?"
   ]
  },
  {
   "cell_type": "code",
   "execution_count": 7,
   "metadata": {
    "collapsed": false,
    "deletable": true,
    "editable": true
   },
   "outputs": [
    {
     "name": "stdout",
     "output_type": "stream",
     "text": [
      "{\r\n",
      "  \"entities\": [\r\n",
      "    {\r\n",
      "      \"name\": \"subject\",\r\n",
      "      \"pattern\": \"sub-(\\\\d+)\",\r\n",
      "      \"directory\": \"{{root}}/{subject}\"\r\n",
      "    },\r\n",
      "    {\r\n",
      "      \"name\": \"session\",\r\n",
      "      \"pattern\": \"ses-0*(\\\\d+)\",\r\n",
      "      \"mandatory\": false,\r\n",
      "      \"directory\": \"{{root}}/{subject}/{session}\",\r\n",
      "      \"missing_value\": \"ses-1\"\r\n",
      "    },\r\n",
      "    {\r\n",
      "      \"name\": \"run\",\r\n",
      "      \"pattern\": \"run-0*(\\\\d+)\"\r\n",
      "    },\r\n",
      "    {\r\n",
      "      \"name\": \"type\",\r\n",
      "      \"pattern\": \".*_(.*?)\\\\.\"\r\n",
      "    },\r\n",
      "    {\r\n",
      "      \"name\": \"task\",\r\n",
      "      \"pattern\": \"task-(.*?)-\"\r\n",
      "    },\r\n",
      "    {\r\n",
      "      \"name\": \"acquisition\",\r\n",
      "      \"pattern\": \"acq-(.*?)-\"\r\n",
      "    },\r\n",
      "    {\r\n",
      "      \"name\": \"bval\",\r\n",
      "      \"pattern\": \"(.*\\\\.bval)\"\r\n",
      "    }\r\n",
      "  ]\r\n",
      "}"
     ]
    }
   ],
   "source": [
    "!cat ../grabbit/tests/specs/test.json"
   ]
  },
  {
   "cell_type": "markdown",
   "metadata": {
    "deletable": true,
    "editable": true
   },
   "source": [
    "The config file has two components:\n",
    "* a list of entities, each with a name and a pattern (a regex). Entities are things you will eventually like to grab.\n",
    "* a hierarchy that tells you how these entities relate to each others on the disk."
   ]
  },
  {
   "cell_type": "code",
   "execution_count": 8,
   "metadata": {
    "collapsed": false,
    "deletable": true,
    "editable": true
   },
   "outputs": [],
   "source": [
    "import grabbit as gb\n",
    "%load_ext autoreload\n",
    "%autoreload 2"
   ]
  },
  {
   "cell_type": "code",
   "execution_count": 36,
   "metadata": {
    "collapsed": false,
    "deletable": true,
    "editable": true
   },
   "outputs": [],
   "source": [
    "layout = gb.Layout('../grabbit/tests/data/7t_trt/', absolute_paths=False, config=config_file)"
   ]
  },
  {
   "cell_type": "code",
   "execution_count": 37,
   "metadata": {
    "collapsed": false,
    "deletable": true,
    "editable": true
   },
   "outputs": [
    {
     "data": {
      "text/plain": [
       "['../grabbit/tests/data/7t_trt/sub-04/ses-2/sub-04_ses-2_scans.tsv',\n",
       " '../grabbit/tests/data/7t_trt/sub-10/ses-1/fmap/sub-10_ses-1_run-2_magnitude2.nii.gz',\n",
       " '../grabbit/tests/data/7t_trt/sub-06/ses-1/func/sub-06_ses-1_task-rest_acq-fullbrain_run-1_physio.tsv.gz',\n",
       " '../grabbit/tests/data/7t_trt/sub-09/ses-1/fmap/sub-09_ses-1_run-1_magnitude1.nii.gz',\n",
       " '../grabbit/tests/data/7t_trt/sub-06/ses-1/fmap/sub-06_ses-1_run-1_magnitude2.nii.gz',\n",
       " '../grabbit/tests/data/7t_trt/sub-06/ses-2/func/sub-06_ses-2_task-rest_acq-fullbrain_run-1_physio.tsv.gz',\n",
       " '../grabbit/tests/data/7t_trt/sub-06/ses-1/func/sub-06_ses-1_task-rest_acq-prefrontal_bold.nii.gz',\n",
       " '../grabbit/tests/data/7t_trt/sub-04/ses-2/fmap/sub-04_ses-2_run-1_phasediff.json',\n",
       " '../grabbit/tests/data/7t_trt/sub-08/ses-1/anat/sub-08_ses-1_T1map.nii.gz',\n",
       " '../grabbit/tests/data/7t_trt/sub-05/ses-2/func/sub-05_ses-2_task-rest_acq-prefrontal_physio.tsv.gz']"
      ]
     },
     "execution_count": 37,
     "metadata": {},
     "output_type": "execute_result"
    }
   ],
   "source": [
    "# This layout has entities and files: the layout.files is a dictionary, \n",
    "# which keys are the files in you root \n",
    "\n",
    "list(layout.files.keys())[:10]"
   ]
  },
  {
   "cell_type": "markdown",
   "metadata": {
    "deletable": true,
    "editable": true
   },
   "source": [
    "## Retrieve first run BOLD images for all subjects"
   ]
  },
  {
   "cell_type": "code",
   "execution_count": 38,
   "metadata": {
    "collapsed": false,
    "deletable": true,
    "editable": true
   },
   "outputs": [
    {
     "data": {
      "text/plain": [
       "{'T1map',\n",
       " 'T1w',\n",
       " 'bold',\n",
       " 'magnitude1',\n",
       " 'magnitude2',\n",
       " 'phasediff',\n",
       " 'physio',\n",
       " 'scans',\n",
       " 'sessions'}"
      ]
     },
     "execution_count": 38,
     "metadata": {},
     "output_type": "execute_result"
    }
   ],
   "source": [
    "layout.get(subject=1)[:2]\n",
    "set(x.type for x in layout.get(subject=1))"
   ]
  },
  {
   "cell_type": "code",
   "execution_count": 39,
   "metadata": {
    "collapsed": false,
    "deletable": true,
    "editable": true
   },
   "outputs": [
    {
     "name": "stdout",
     "output_type": "stream",
     "text": [
      "Each hit is a named tuple, e.g.:\n",
      "\tFile(filename='../grabbit/tests/data/7t_trt/sub-01/ses-1/func/sub-01_ses-1_task-rest_acq-fullbrain_run-1_bold.nii.gz', task='rest_acq', run='1', session='1', type='bold', acquisition='fullbrain_run', subject='01')\n",
      "\n",
      "First 10 filenames:\n",
      "\t../grabbit/tests/data/7t_trt/sub-01/ses-1/func/sub-01_ses-1_task-rest_acq-fullbrain_run-1_bold.nii.gz\n",
      "\t../grabbit/tests/data/7t_trt/sub-01/ses-2/func/sub-01_ses-2_task-rest_acq-fullbrain_run-1_bold.nii.gz\n",
      "\t../grabbit/tests/data/7t_trt/sub-02/ses-1/func/sub-02_ses-1_task-rest_acq-fullbrain_run-1_bold.nii.gz\n",
      "\t../grabbit/tests/data/7t_trt/sub-02/ses-2/func/sub-02_ses-2_task-rest_acq-fullbrain_run-1_bold.nii.gz\n",
      "\t../grabbit/tests/data/7t_trt/sub-03/ses-1/func/sub-03_ses-1_task-rest_acq-fullbrain_run-1_bold.nii.gz\n",
      "\t../grabbit/tests/data/7t_trt/sub-03/ses-2/func/sub-03_ses-2_task-rest_acq-fullbrain_run-1_bold.nii.gz\n",
      "\t../grabbit/tests/data/7t_trt/sub-04/ses-1/func/sub-04_ses-1_task-rest_acq-fullbrain_run-1_bold.nii.gz\n",
      "\t../grabbit/tests/data/7t_trt/sub-04/ses-2/func/sub-04_ses-2_task-rest_acq-fullbrain_run-1_bold.nii.gz\n",
      "\t../grabbit/tests/data/7t_trt/sub-05/ses-1/func/sub-05_ses-1_task-rest_acq-fullbrain_run-1_bold.nii.gz\n",
      "\t../grabbit/tests/data/7t_trt/sub-05/ses-2/func/sub-05_ses-2_task-rest_acq-fullbrain_run-1_bold.nii.gz\n"
     ]
    }
   ],
   "source": [
    "hits = layout.get(run=1, type='bold')\n",
    "assert hits, \"We should have got some hits\"  # sanity check\n",
    "print(\"Each hit is a named tuple, e.g.:\\n\\t%s\" % repr(hits[0]))\n",
    "\n",
    "print(\"\\nFirst 10 filenames:\\n\\t%s\" % \n",
    "    '\\n\\t'.join([h.filename for h in hits][:10]))"
   ]
  },
  {
   "cell_type": "markdown",
   "metadata": {
    "deletable": true,
    "editable": true
   },
   "source": [
    "## Get all unique subject IDs"
   ]
  },
  {
   "cell_type": "code",
   "execution_count": 40,
   "metadata": {
    "collapsed": false,
    "deletable": true,
    "editable": true
   },
   "outputs": [
    {
     "data": {
      "text/plain": [
       "['01', '02', '03', '04', '05', '06', '07', '08', '09', '10']"
      ]
     },
     "execution_count": 40,
     "metadata": {},
     "output_type": "execute_result"
    }
   ],
   "source": [
    "layout.get(return_type='id', target='subject')"
   ]
  },
  {
   "cell_type": "code",
   "execution_count": null,
   "metadata": {
    "collapsed": true
   },
   "outputs": [],
   "source": []
  }
 ],
 "metadata": {
  "kernelspec": {
   "display_name": "Python 2 (grabbit venv)",
   "language": "python",
   "name": "python2-grabbit"
  },
  "language_info": {
   "codemirror_mode": {
    "name": "ipython",
    "version": 2
   },
   "file_extension": ".py",
   "mimetype": "text/x-python",
   "name": "python",
   "nbconvert_exporter": "python",
   "pygments_lexer": "ipython2",
   "version": "2.7.13"
  }
 },
 "nbformat": 4,
 "nbformat_minor": 0
}
