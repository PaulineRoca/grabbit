{
 "cells": [
  {
   "cell_type": "markdown",
   "metadata": {},
   "source": [
    "# Grabbids : uses cases and answers ..."
   ]
  },
  {
   "cell_type": "markdown",
   "metadata": {},
   "source": [
    "## This is the config file: "
   ]
  },
  {
   "cell_type": "code",
   "execution_count": 1,
   "metadata": {
    "collapsed": true
   },
   "outputs": [],
   "source": [
    "import json\n",
    "import os\n",
    "import os.path as osp\n",
    "from pprint import pprint"
   ]
  },
  {
   "cell_type": "code",
   "execution_count": 2,
   "metadata": {
    "collapsed": false
   },
   "outputs": [
    {
     "data": {
      "text/plain": [
       "u'/home/jb/code/grabbids/grabbids'"
      ]
     },
     "execution_count": 2,
     "metadata": {},
     "output_type": "execute_result"
    }
   ],
   "source": [
    "%pwd"
   ]
  },
  {
   "cell_type": "code",
   "execution_count": 3,
   "metadata": {
    "collapsed": false
   },
   "outputs": [],
   "source": [
    "config_file = './tests/specs/test.json'\n",
    "config = json.load(open(config_file))\n",
    "# pprint(config)"
   ]
  },
  {
   "cell_type": "markdown",
   "metadata": {},
   "source": [
    "### what's in the config file ?"
   ]
  },
  {
   "cell_type": "code",
   "execution_count": 4,
   "metadata": {
    "collapsed": false
   },
   "outputs": [],
   "source": [
    "\"\"\"\n",
    "{\n",
    "  \"entities\": [\n",
    "    {\n",
    "      \"name\": \"subject\",\n",
    "      \"pattern\": \"(sub-\\\\d+)\",\n",
    "      \"directory\": \"({base_dir}/{subject})\"\n",
    "    },\n",
    "    {\n",
    "      \"name\": \"run\",\n",
    "      \"pattern\": \"(run-\\\\d+)\"\n",
    "    },\n",
    "    {\n",
    "      \"name\": \"session\",\n",
    "      \"pattern\": \"(ses-\\\\d)\",\n",
    "      \"mandatory\": false,\n",
    "      \"missing_value\": \"ses-1\"\n",
    "    },\n",
    "    {\n",
    "      \"name\": \"type\",\n",
    "      \"pattern\": \".*_(.*?)\\\\.\"\n",
    "    }\n",
    "  ],\n",
    "  \"hierarchy\": [\n",
    "    \"subject\",\n",
    "    \"session\",\n",
    "    \"run\",\n",
    "    \"type\"\n",
    "  ]\n",
    "}\n",
    "\"\"\";"
   ]
  },
  {
   "cell_type": "markdown",
   "metadata": {},
   "source": [
    "The config file has two components:\n",
    "* a list of entities, each with a name and a pattern (a regex). Entities are things you will eventually like to grab.\n",
    "* a hierarchy that tells you how these entities relate to each others on the disk."
   ]
  },
  {
   "cell_type": "code",
   "execution_count": 5,
   "metadata": {
    "collapsed": true
   },
   "outputs": [],
   "source": [
    "import grabbids as gb"
   ]
  },
  {
   "cell_type": "code",
   "execution_count": 6,
   "metadata": {
    "collapsed": false
   },
   "outputs": [],
   "source": [
    "layout = gb.Structure(config_file, './tests/data/7t_trt/')"
   ]
  },
  {
   "cell_type": "code",
   "execution_count": 8,
   "metadata": {
    "collapsed": false
   },
   "outputs": [
    {
     "data": {
      "text/plain": [
       "['./tests/data/7t_trt/sub-05/ses-2/fmap/sub-05_ses-2_run-1_magnitude1.nii.gz',\n",
       " './tests/data/7t_trt/sub-02/ses-2/func/sub-02_ses-2_task-rest_acq-fullbrain_run-2_physio.tsv.gz',\n",
       " './tests/data/7t_trt/sub-07/ses-2/func/sub-07_ses-2_task-rest_acq-fullbrain_run-1_bold.nii.gz',\n",
       " './tests/data/7t_trt/sub-04/ses-1/fmap/sub-04_ses-1_run-1_phasediff.nii.gz',\n",
       " './tests/data/7t_trt/sub-04/ses-2/fmap/sub-04_ses-2_run-1_phasediff.json',\n",
       " './tests/data/7t_trt/sub-09/sub-09_sessions.tsv',\n",
       " './tests/data/7t_trt/sub-04/ses-2/fmap/sub-04_ses-2_run-2_magnitude1.nii.gz',\n",
       " './tests/data/7t_trt/sub-06/ses-1/fmap/sub-06_ses-1_run-2_magnitude1.nii.gz',\n",
       " './tests/data/7t_trt/sub-08/ses-2/func/sub-08_ses-2_task-rest_acq-fullbrain_run-2_bold.nii.gz',\n",
       " './tests/data/7t_trt/sub-08/ses-2/fmap/sub-08_ses-2_run-1_magnitude2.nii.gz']"
      ]
     },
     "execution_count": 8,
     "metadata": {},
     "output_type": "execute_result"
    }
   ],
   "source": [
    "# This layout has entities and files: the layout.files is a dictionary, \n",
    "# which keys are the files in you root \n",
    "\n",
    "layout.files.keys()[:10]\n"
   ]
  },
  {
   "cell_type": "code",
   "execution_count": 10,
   "metadata": {
    "collapsed": false
   },
   "outputs": [
    {
     "data": {
      "text/plain": [
       "['sub-10',\n",
       " 'sub-01',\n",
       " 'sub-03',\n",
       " 'sub-02',\n",
       " 'sub-05',\n",
       " 'sub-04',\n",
       " 'sub-07',\n",
       " 'sub-06',\n",
       " 'sub-09',\n",
       " 'sub-08',\n",
       " 'subject']"
      ]
     },
     "execution_count": 10,
     "metadata": {},
     "output_type": "execute_result"
    }
   ],
   "source": [
    "\n",
    "layout.get('run').keys()"
   ]
  },
  {
   "cell_type": "markdown",
   "metadata": {},
   "source": [
    "## By default, the get method will return a dictionary with the hierarchy of the file system:"
   ]
  },
  {
   "cell_type": "code",
   "execution_count": 15,
   "metadata": {
    "collapsed": false
   },
   "outputs": [
    {
     "name": "stdout",
     "output_type": "stream",
     "text": [
      "{'T1map': './tests/data/7t_trt/sub-01/ses-1/anat/sub-01_ses-1_T1map.nii.gz',\n",
      " 'T1w': './tests/data/7t_trt/sub-01/ses-1/anat/sub-01_ses-1_T1w.nii.gz',\n",
      " 'bold': './tests/data/7t_trt/sub-01/ses-1/func/sub-01_ses-1_task-rest_acq-prefrontal_bold.nii.gz',\n",
      " 'physio': './tests/data/7t_trt/sub-01/ses-1/func/sub-01_ses-1_task-rest_acq-prefrontal_physio.tsv.gz',\n",
      " 'scans': './tests/data/7t_trt/sub-01/ses-1/sub-01_ses-1_scans.tsv',\n",
      " 'sessions': './tests/data/7t_trt/sub-01/sub-01_sessions.tsv'}\n"
     ]
    }
   ],
   "source": [
    "pprint(layout.get('run')['sub-01']['ses-1']['run'])\n",
    "\n",
    "# pprint(layout.get('run')['sub-01']['ses-1']['run'])\n"
   ]
  },
  {
   "cell_type": "code",
   "execution_count": null,
   "metadata": {
    "collapsed": true
   },
   "outputs": [],
   "source": []
  }
 ],
 "metadata": {
  "kernelspec": {
   "display_name": "Python 2",
   "language": "python",
   "name": "python2"
  },
  "language_info": {
   "codemirror_mode": {
    "name": "ipython",
    "version": 2
   },
   "file_extension": ".py",
   "mimetype": "text/x-python",
   "name": "python",
   "nbconvert_exporter": "python",
   "pygments_lexer": "ipython2",
   "version": "2.7.11+"
  }
 },
 "nbformat": 4,
 "nbformat_minor": 0
}
